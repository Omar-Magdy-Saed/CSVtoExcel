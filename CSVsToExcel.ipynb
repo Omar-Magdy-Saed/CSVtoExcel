{
 "cells": [
  {
   "cell_type": "code",
   "execution_count": 52,
   "metadata": {},
   "outputs": [
    {
     "name": "stdout",
     "output_type": "stream",
     "text": [
      "                                    from_port  \\\n",
      "0         PO5-10th_Ramdan-1/ASWG-2-15-LINEOUT   \n",
      "1    PO14-10TH-RAMADAN-MTX-1/ASWG-1-3-LINEOUT   \n",
      "2          PO5-10th_Ramdan-1/ASWG-1-4-LINEOUT   \n",
      "3             PO5-Ismailia-1/ASWG-3-4-LINEOUT   \n",
      "4          PO5-10th_Ramdan-1/ASWG-3-3-LINEOUT   \n",
      "..                                        ...   \n",
      "109           PO5-Man_E-1/AM2625A-2-3-LINEOUT   \n",
      "110            PO5-Zagazig-1/ASWG-2-3-LINEOUT   \n",
      "111         PO5-Meet_Ghamr-1/ASWG-1-3-LINEOUT   \n",
      "112            PO5-Zagazig-1/ASWG-4-3-LINEOUT   \n",
      "113             PO26-ZAG_E-1/ASWG-1-3-LINEOUT   \n",
      "\n",
      "                                     to_port  KM  Design  Measured    MIN  \\\n",
      "0    PO14-10TH-RAMADAN-MTX-1/ASWG-1-2-LINEIN   1    6.00      1.40   5.00   \n",
      "1         PO5-10th_Ramdan-1/ASWG-2-14-LINEIN   1    4.00      2.30   3.00   \n",
      "2             PO5-Ismailia-1/RA2P-3-2-LINEIN  76   11.53     14.94  11.33   \n",
      "3          PO5-10th_Ramdan-1/RA2P-1-2-LINEIN  76   11.53     18.16  11.33   \n",
      "4               PO26-ZAG_E-1/ASWG-2-2-LINEIN  65   21.00     15.10  20.00   \n",
      "..                                       ...  ..     ...       ...    ...   \n",
      "109        PO5-Zagazig-1/AM2125B-1-13-LINEIN  68   29.20     27.51  29.00   \n",
      "110        PO5-Meet_Ghamr-1/ASWG-1-10-LINEIN  30   11.21     10.86  11.01   \n",
      "111            PO5-Zagazig-1/ASWG-2-2-LINEIN  30   11.20     10.81  11.00   \n",
      "112             PO26-ZAG_E-1/ASWG-1-2-LINEIN   4    4.00      4.22   3.00   \n",
      "113            PO5-Zagazig-1/ASWG-4-2-LINEIN   4    4.00      1.84   3.00   \n",
      "\n",
      "       MAX   Loss  \n",
      "0    11.00   1.30  \n",
      "1     9.00   1.85  \n",
      "2    20.53  21.22  \n",
      "3    20.53  25.28  \n",
      "4    26.00  15.54  \n",
      "..     ...    ...  \n",
      "109  34.20  27.78  \n",
      "110  16.21  10.82  \n",
      "111  16.20  10.95  \n",
      "112   9.00   4.21  \n",
      "113   9.00   1.85  \n",
      "\n",
      "[114 rows x 8 columns]\n"
     ]
    }
   ],
   "source": [
    "import pandas as pd\n",
    "import glob\n",
    "import openpyxl\n",
    "import janitor\n",
    "\n",
    "\n",
    "\n",
    "# Read all csv files in a folder\n",
    "folder_path = r'D:\\Projects\\TE-EGypt\\PO5\\fromMIchel\\PO5-Fiber-Characteristics'\n",
    "file_list = glob.glob(folder_path + \"/*.csv\")\n",
    "\n",
    "# Read the first file and create the main dataframe\n",
    "main_dataframe = pd.DataFrame(pd.read_csv(file_list[0]))\n",
    "\n",
    "# Read the rest of the files and append them to the main dataframe\n",
    "for i in range(1,len(file_list)):\n",
    "    data = pd.read_csv(file_list[i])\n",
    "    df = pd.DataFrame(data)\n",
    "    # Concatenate the dataframes and each time add the new data to the bottom of the main dataframe\n",
    "    main_dataframe = pd.concat([main_dataframe,df],axis=0)\n",
    "\n",
    "# Reset the index of the main dataframe\n",
    "main_dataframe = main_dataframe.reset_index(drop=True)\n",
    "\n",
    "# Clean the main dataframe\n",
    "main_dataframe = main_dataframe.clean_names()\n",
    "\n",
    "#drop the all columns after the 23th column \n",
    "main_dataframe = main_dataframe.iloc[:,0:21]\n",
    "\n",
    "# drop  columns titled \"band\" & \"fiber_type\"\n",
    "main_dataframe = main_dataframe.drop(columns=['band','fiber_type','commissioned_span_loss_db_','egress_max_gain_db_'\n",
    "                                              ,'egress_min_gain_db_','ingress_max_gain_db_','ingress_min_gain_db_'\n",
    "                                              ,'egress_gain_db_','ingress_gain_db_','target_gain_db_','achieved_gain_db_'\n",
    "                                              ,'ingress_gain_db_','egress_power_out','ingress_power_in'])\n",
    "\n",
    "# Rename the columns\n",
    "main_dataframe = main_dataframe.rename(columns={'fiber_length_km_':'KM','design_span_loss_db_':'Design', 'measured_span_loss_db_':'Measured'\n",
    "                                        ,'min_span_loss_db_':'MIN','max_span_loss_db_':'MAX','fiber_loss_db_':'Loss'})\n",
    "\n",
    "# Print the main dataframe \n",
    "print(main_dataframe)\n",
    "\n",
    "\n",
    "# Save the main dataframe to an excel file\n",
    "main_dataframe.to_excel(r'D:\\Projects\\TE-EGypt\\PO5\\PO5-Fiber-Characteristics.xlsx',index=False)\n",
    "\n",
    "\n",
    "\n"
   ]
  }
 ],
 "metadata": {
  "kernelspec": {
   "display_name": "Python 3",
   "language": "python",
   "name": "python3"
  },
  "language_info": {
   "codemirror_mode": {
    "name": "ipython",
    "version": 3
   },
   "file_extension": ".py",
   "mimetype": "text/x-python",
   "name": "python",
   "nbconvert_exporter": "python",
   "pygments_lexer": "ipython3",
   "version": "3.10.9"
  },
  "orig_nbformat": 4,
  "vscode": {
   "interpreter": {
    "hash": "25f38fcbf528cf4933e16a3dc20358cc66c032c5bda2a060547b3408b2e9f972"
   }
  }
 },
 "nbformat": 4,
 "nbformat_minor": 2
}
